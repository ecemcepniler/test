{
 "cells": [
  {
   "cell_type": "code",
   "execution_count": 188,
   "id": "1cbefecf-6102-4bb5-82c7-9fd9e8fcb107",
   "metadata": {
    "tags": []
   },
   "outputs": [],
   "source": [
    "import pandas as pd"
   ]
  },
  {
   "cell_type": "code",
   "execution_count": 189,
   "id": "9b8b056d-a0cf-40d4-ab12-b96a5cd97ca6",
   "metadata": {
    "tags": []
   },
   "outputs": [],
   "source": [
    "df= pd.read_csv('Usage_DeviationReport_Feb.csv')"
   ]
  },
  {
   "cell_type": "code",
   "execution_count": 190,
   "id": "042ecd9d-b2f9-41cf-9a80-d60d9f55356e",
   "metadata": {
    "tags": []
   },
   "outputs": [
    {
     "name": "stdout",
     "output_type": "stream",
     "text": [
      "<class 'pandas.core.frame.DataFrame'>\n",
      "RangeIndex: 663 entries, 0 to 662\n",
      "Data columns (total 38 columns):\n",
      " #   Column                    Non-Null Count  Dtype  \n",
      "---  ------                    --------------  -----  \n",
      " 0   PublishedBillingPeriod    663 non-null    int64  \n",
      " 1   FiscalYear                663 non-null    int64  \n",
      " 2   EnergyType                663 non-null    object \n",
      " 3   EnergyUnit                663 non-null    object \n",
      " 4   Utility                   663 non-null    object \n",
      " 5   OECID                     663 non-null    int64  \n",
      " 6   Account#                  663 non-null    int64  \n",
      " 7   TariffClass               663 non-null    object \n",
      " 8   Facility_Name             663 non-null    object \n",
      " 9   Facility_Address          663 non-null    object \n",
      " 10  Borough                   663 non-null    int64  \n",
      " 11  Zipcode                   663 non-null    int64  \n",
      " 12  CY_Act_Usage              663 non-null    int64  \n",
      " 13  CY_BDs                    663 non-null    int64  \n",
      " 14  CY_Adj_30Day_Usage        663 non-null    int64  \n",
      " 15  CY_DMD                    150 non-null    float64\n",
      " 16  CY_AE                     663 non-null    object \n",
      " 17  PY_AE                     663 non-null    object \n",
      " 18  CY_HDD                    663 non-null    int64  \n",
      " 19  CY_CDD                    663 non-null    int64  \n",
      " 20   CY_$/Unit_Usage          662 non-null    object \n",
      " 21  PY_Act_Usage              663 non-null    int64  \n",
      " 22  PY_BDs                    663 non-null    int64  \n",
      " 23  PY_Adj_30Day_Usage        663 non-null    int64  \n",
      " 24  PY_DMD                    150 non-null    float64\n",
      " 25  PY_HDD                    663 non-null    int64  \n",
      " 26  PY_CDD                    663 non-null    int64  \n",
      " 27  CY_Usage_Deviation_%      663 non-null    object \n",
      " 28  CY_DMD_Deviation_%        164 non-null    object \n",
      " 29  3Y_AVG_Act_Usage          663 non-null    int64  \n",
      " 30  3Y_AVG_BDs                663 non-null    int64  \n",
      " 31  3Y_AVG_Adj_30Day_Usage    663 non-null    int64  \n",
      " 32  3Y_AVG_DMD                164 non-null    float64\n",
      " 33  3Y_AE                     663 non-null    object \n",
      " 34  3Y_AVG_HDD                663 non-null    int64  \n",
      " 35  3Y_AVG_CDD                663 non-null    int64  \n",
      " 36  3Y_AVG_Usage_Deviation_%  663 non-null    object \n",
      " 37  3Y_AVG_DMD_Deviation_%    164 non-null    object \n",
      "dtypes: float64(3), int64(21), object(14)\n",
      "memory usage: 197.0+ KB\n"
     ]
    }
   ],
   "source": [
    "df.info()"
   ]
  },
  {
   "cell_type": "code",
   "execution_count": 191,
   "id": "af086e60-da05-48fd-8a82-a8f10dc2c10c",
   "metadata": {
    "tags": []
   },
   "outputs": [
    {
     "data": {
      "text/plain": [
       "['PublishedBillingPeriod',\n",
       " 'FiscalYear',\n",
       " 'EnergyType',\n",
       " 'EnergyUnit',\n",
       " 'Utility',\n",
       " 'OECID',\n",
       " 'Account#',\n",
       " 'TariffClass',\n",
       " 'Facility_Name',\n",
       " 'Facility_Address',\n",
       " 'Borough',\n",
       " 'Zipcode',\n",
       " 'CY_Act_Usage',\n",
       " 'CY_BDs',\n",
       " 'CY_Adj_30Day_Usage',\n",
       " 'CY_DMD',\n",
       " 'CY_AE',\n",
       " 'PY_AE',\n",
       " 'CY_HDD',\n",
       " 'CY_CDD',\n",
       " ' CY_$/Unit_Usage ',\n",
       " 'PY_Act_Usage',\n",
       " 'PY_BDs',\n",
       " 'PY_Adj_30Day_Usage',\n",
       " 'PY_DMD',\n",
       " 'PY_HDD',\n",
       " 'PY_CDD',\n",
       " 'CY_Usage_Deviation_%',\n",
       " 'CY_DMD_Deviation_%',\n",
       " '3Y_AVG_Act_Usage',\n",
       " '3Y_AVG_BDs',\n",
       " '3Y_AVG_Adj_30Day_Usage',\n",
       " '3Y_AVG_DMD',\n",
       " '3Y_AE',\n",
       " '3Y_AVG_HDD',\n",
       " '3Y_AVG_CDD',\n",
       " '3Y_AVG_Usage_Deviation_%',\n",
       " '3Y_AVG_DMD_Deviation_%']"
      ]
     },
     "execution_count": 191,
     "metadata": {},
     "output_type": "execute_result"
    }
   ],
   "source": [
    "column_names = list(df)\n",
    "column_names"
   ]
  },
  {
   "cell_type": "code",
   "execution_count": 192,
   "id": "8b05d702-8e70-411d-ae0d-d4fd25fc5a30",
   "metadata": {
    "tags": []
   },
   "outputs": [
    {
     "name": "stderr",
     "output_type": "stream",
     "text": [
      "C:\\Users\\ecepniler\\AppData\\Local\\Temp\\ipykernel_46644\\3391703375.py:2: FutureWarning: The default value of regex will change from True to False in a future version. In addition, single character regular expressions will *not* be treated as literal strings when regex=True.\n",
      "  df['UnitUsage'] = df['UnitUsage'].str.replace('$', '')\n",
      "C:\\Users\\ecepniler\\AppData\\Local\\Temp\\ipykernel_46644\\3391703375.py:3: FutureWarning: The default value of regex will change from True to False in a future version. In addition, single character regular expressions will *not* be treated as literal strings when regex=True.\n",
      "  df['UnitUsage'] = df['UnitUsage'].str.replace('(', '-')\n",
      "C:\\Users\\ecepniler\\AppData\\Local\\Temp\\ipykernel_46644\\3391703375.py:4: FutureWarning: The default value of regex will change from True to False in a future version. In addition, single character regular expressions will *not* be treated as literal strings when regex=True.\n",
      "  df['UnitUsage'] = df['UnitUsage'].str.replace(')', '')\n"
     ]
    }
   ],
   "source": [
    "df.rename(columns={' CY_$/Unit_Usage ': 'UnitUsage'}, inplace=True)\n",
    "df['UnitUsage'] = df['UnitUsage'].str.replace('$', '')\n",
    "df['UnitUsage'] = df['UnitUsage'].str.replace('(', '-')\n",
    "df['UnitUsage'] = df['UnitUsage'].str.replace(')', '')\n",
    "df['UnitUsage']= df['UnitUsage'].astype('float64')"
   ]
  },
  {
   "cell_type": "code",
   "execution_count": 193,
   "id": "d529be2d-b012-4f05-960c-9550ceff14ee",
   "metadata": {
    "tags": []
   },
   "outputs": [
    {
     "name": "stdout",
     "output_type": "stream",
     "text": [
      "<class 'pandas.core.frame.DataFrame'>\n",
      "RangeIndex: 663 entries, 0 to 662\n",
      "Data columns (total 38 columns):\n",
      " #   Column                    Non-Null Count  Dtype  \n",
      "---  ------                    --------------  -----  \n",
      " 0   PublishedBillingPeriod    663 non-null    int64  \n",
      " 1   FiscalYear                663 non-null    int64  \n",
      " 2   EnergyType                663 non-null    object \n",
      " 3   EnergyUnit                663 non-null    object \n",
      " 4   Utility                   663 non-null    object \n",
      " 5   OECID                     663 non-null    int64  \n",
      " 6   Account#                  663 non-null    int64  \n",
      " 7   TariffClass               663 non-null    object \n",
      " 8   Facility_Name             663 non-null    object \n",
      " 9   Facility_Address          663 non-null    object \n",
      " 10  Borough                   663 non-null    int64  \n",
      " 11  Zipcode                   663 non-null    int64  \n",
      " 12  CY_Act_Usage              663 non-null    int64  \n",
      " 13  CY_BDs                    663 non-null    int64  \n",
      " 14  CY_Adj_30Day_Usage        663 non-null    int64  \n",
      " 15  CY_DMD                    150 non-null    float64\n",
      " 16  CY_AE                     663 non-null    object \n",
      " 17  PY_AE                     663 non-null    object \n",
      " 18  CY_HDD                    663 non-null    int64  \n",
      " 19  CY_CDD                    663 non-null    int64  \n",
      " 20  UnitUsage                 662 non-null    float64\n",
      " 21  PY_Act_Usage              663 non-null    int64  \n",
      " 22  PY_BDs                    663 non-null    int64  \n",
      " 23  PY_Adj_30Day_Usage        663 non-null    int64  \n",
      " 24  PY_DMD                    150 non-null    float64\n",
      " 25  PY_HDD                    663 non-null    int64  \n",
      " 26  PY_CDD                    663 non-null    int64  \n",
      " 27  CY_Usage_Deviation_%      663 non-null    object \n",
      " 28  CY_DMD_Deviation_%        164 non-null    object \n",
      " 29  3Y_AVG_Act_Usage          663 non-null    int64  \n",
      " 30  3Y_AVG_BDs                663 non-null    int64  \n",
      " 31  3Y_AVG_Adj_30Day_Usage    663 non-null    int64  \n",
      " 32  3Y_AVG_DMD                164 non-null    float64\n",
      " 33  3Y_AE                     663 non-null    object \n",
      " 34  3Y_AVG_HDD                663 non-null    int64  \n",
      " 35  3Y_AVG_CDD                663 non-null    int64  \n",
      " 36  3Y_AVG_Usage_Deviation_%  663 non-null    object \n",
      " 37  3Y_AVG_DMD_Deviation_%    164 non-null    object \n",
      "dtypes: float64(4), int64(21), object(13)\n",
      "memory usage: 197.0+ KB\n"
     ]
    }
   ],
   "source": [
    "df.info()"
   ]
  },
  {
   "cell_type": "code",
   "execution_count": 194,
   "id": "b7deb255-470b-43a3-813e-045eb2a84ce3",
   "metadata": {
    "tags": []
   },
   "outputs": [
    {
     "data": {
      "text/plain": [
       "array(['ELE', 'GAS', 'STM'], dtype=object)"
      ]
     },
     "execution_count": 194,
     "metadata": {},
     "output_type": "execute_result"
    }
   ],
   "source": [
    "df['EnergyType'].unique()"
   ]
  },
  {
   "cell_type": "code",
   "execution_count": 195,
   "id": "b4046a1e-ec5f-4185-878a-b6b6b363bdae",
   "metadata": {
    "tags": []
   },
   "outputs": [],
   "source": [
    "#Filtering ELE Accts.\n",
    "df_ELE= df.loc[df['EnergyType']== 'ELE']"
   ]
  },
  {
   "cell_type": "code",
   "execution_count": 196,
   "id": "f74feed5-a850-4405-bfb0-70cd3b0221e6",
   "metadata": {
    "tags": []
   },
   "outputs": [],
   "source": [
    "#Filtering GAS Accts.\n",
    "df_GAS= df.loc[df['EnergyType']== 'GAS']"
   ]
  },
  {
   "cell_type": "code",
   "execution_count": 197,
   "id": "76c395cf-e907-428b-ad0c-85a392171cd8",
   "metadata": {
    "tags": []
   },
   "outputs": [],
   "source": [
    "#Filtering STM Accts.\n",
    "df_STM= df.loc[df['EnergyType']== 'STM']"
   ]
  },
  {
   "cell_type": "code",
   "execution_count": 198,
   "id": "8acf2594-98ec-4d28-b93f-c6aadf719edb",
   "metadata": {
    "tags": []
   },
   "outputs": [],
   "source": [
    "#To extract filtered data\n",
    "df_ELE.to_excel('ELE.xlsx')\n",
    "df_GAS.to_excel('GAS.xlsx')\n",
    "df_STM.to_excel('STM.xlsx')"
   ]
  },
  {
   "cell_type": "code",
   "execution_count": 199,
   "id": "c30439a0-78ca-4004-84df-e706fbad6b86",
   "metadata": {
    "tags": []
   },
   "outputs": [],
   "source": [
    "#Detecting accounts having EST. readings both in current and prior year for the same billing period for each energy type.\n",
    "df_ELE_EST= df_ELE.loc[(df_ELE['CY_AE']=='EST') & (df_ELE['PY_AE']== 'EST')]\n",
    "df_GAS_EST= df_GAS.loc[(df_GAS['CY_AE']=='EST') & (df_GAS['PY_AE']== 'EST')]\n",
    "df_STM_EST= df_STM.loc[(df_STM['CY_AE']=='EST') & (df_STM['PY_AE']== 'EST')]"
   ]
  },
  {
   "cell_type": "code",
   "execution_count": 200,
   "id": "f923812d-f6cc-44ed-ae65-90479639c4db",
   "metadata": {
    "tags": []
   },
   "outputs": [],
   "source": [
    "#To extract filtered data\n",
    "df_ELE_EST.to_excel('ELE_EST.xlsx')\n",
    "df_GAS_EST.to_excel('GAS_EST.xlsx')\n",
    "df_STM_EST.to_excel('STM_EST.xlsx')"
   ]
  },
  {
   "cell_type": "code",
   "execution_count": 214,
   "id": "f7038716-f2dd-415d-b466-0207c1c5a864",
   "metadata": {
    "tags": []
   },
   "outputs": [],
   "source": [
    "#For ELE accts. detecting accounts with higher unit cost than month's avg.\n",
    "df_ELE_Avg_Unit_Cost_Monthly= df_ELE['UnitUsage'].mean()\n",
    "df_ELE_high_unit_cost= df_ELE.loc[df_ELE['UnitUsage'] > df_ELE_Avg_Unit_Cost_Monthly]"
   ]
  },
  {
   "cell_type": "code",
   "execution_count": 202,
   "id": "1a8d29b1-93c9-4549-9e43-228eccfd1496",
   "metadata": {
    "tags": []
   },
   "outputs": [
    {
     "data": {
      "text/plain": [
       "array([ 2.74,  2.76,  2.84,  3.01,  3.05,  2.99,  3.03,  3.44,  3.11,\n",
       "        3.21,  3.56,  3.26,  3.66,  3.31,  3.9 ,  3.86,  4.87,  5.66,\n",
       "        5.74,  6.19,  6.52,  7.64,  6.67,  7.02,  7.39,  8.49,  8.24,\n",
       "        8.39, 12.91, 14.44, 14.35, 14.87, 16.78, 16.97, 16.99, 21.3 ,\n",
       "       18.72, 19.36, 25.02, 38.03, 40.57, 36.71, 36.72, 39.28, 49.15,\n",
       "       48.89])"
      ]
     },
     "execution_count": 202,
     "metadata": {},
     "output_type": "execute_result"
    }
   ],
   "source": [
    "#For GAS accts. detecting accounts with higher unit cost than month's avg.\n",
    "df_GAS_Avg_Unit_Cost_Monthly= df_GAS['UnitUsage'].mean()\n",
    "df_GAS_high_unit_cost= df_GAS.loc[df_GAS['UnitUsage'] > df_GAS_Avg_Unit_Cost_Monthly]\n",
    "df_GAS_high_unit_cost['UnitUsage'].unique()"
   ]
  },
  {
   "cell_type": "code",
   "execution_count": 203,
   "id": "428521ff-852d-4a9a-8550-88a643f768b7",
   "metadata": {
    "tags": []
   },
   "outputs": [
    {
     "data": {
      "text/plain": [
       "array([60.72, 60.1 , 58.62, 63.91])"
      ]
     },
     "execution_count": 203,
     "metadata": {},
     "output_type": "execute_result"
    }
   ],
   "source": [
    "#For STM accts. detecting accounts with higher unit cost than month's avg.\n",
    "df_STM_Avg_Unit_Cost_Monthly= df_STM['UnitUsage'].mean()\n",
    "df_STM_high_unit_cost= df_STM.loc[df_STM['UnitUsage'] > df_STM_Avg_Unit_Cost_Monthly]\n",
    "df_STM_high_unit_cost['UnitUsage'].unique()"
   ]
  },
  {
   "cell_type": "code",
   "execution_count": 204,
   "id": "6a3cf11f-382c-42fc-8e02-b1cae373ed62",
   "metadata": {
    "tags": []
   },
   "outputs": [],
   "source": [
    "#To extract filtered data\n",
    "df_ELE_high_unit_cost.to_excel('ELE_high_unit_cost.xlsx')\n",
    "df_GAS_high_unit_cost.to_excel('GAS_high_unit_cost.xlsx')\n",
    "df_STM_high_unit_cost.to_excel('STM_high_unit_cost.xlsx')"
   ]
  },
  {
   "cell_type": "code",
   "execution_count": null,
   "id": "9e593fc4-d30f-4216-81c1-449edeb440ad",
   "metadata": {
    "tags": []
   },
   "outputs": [],
   "source": []
  },
  {
   "cell_type": "code",
   "execution_count": null,
   "id": "2c647e56-0036-4bb4-82e2-dfaee6736203",
   "metadata": {
    "tags": []
   },
   "outputs": [],
   "source": []
  },
  {
   "cell_type": "code",
   "execution_count": null,
   "id": "0a5de2ac-bedd-4286-b512-610ba1af6d1c",
   "metadata": {},
   "outputs": [],
   "source": []
  }
 ],
 "metadata": {
  "kernelspec": {
   "display_name": "Python 3 (ipykernel)",
   "language": "python",
   "name": "python3"
  },
  "language_info": {
   "codemirror_mode": {
    "name": "ipython",
    "version": 3
   },
   "file_extension": ".py",
   "mimetype": "text/x-python",
   "name": "python",
   "nbconvert_exporter": "python",
   "pygments_lexer": "ipython3",
   "version": "3.11.4"
  }
 },
 "nbformat": 4,
 "nbformat_minor": 5
}
